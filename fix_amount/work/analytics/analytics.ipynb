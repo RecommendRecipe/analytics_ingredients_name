{
 "cells": [
  {
   "cell_type": "code",
   "execution_count": 10,
   "metadata": {},
   "outputs": [],
   "source": [
    "\"\"\"\n",
    "品詞のみ抽出して結合\n",
    "\"\"\"\n",
    "\n",
    "def pick_hinshi(words,m):\n",
    "  output = []\n",
    "  parsed_text = m.parseToNode(words)\n",
    "  \n",
    "  while parsed_text:\n",
    "    node = parsed_text.feature.split(',')\n",
    "    output.append(\";\".join(node[0:3]))\n",
    "    parsed_text = parsed_text.next\n",
    "  \n",
    "  return \"_\".join(output)"
   ]
  },
  {
   "cell_type": "code",
   "execution_count": null,
   "metadata": {},
   "outputs": [],
   "source": [
    "# 出現語彙の計測\n",
    "tmp = sazi_data[~sazi_data[\"amount\"].str.contains(';')]\n",
    "data_rest = tmp[\"quantity\"].value_counts()\n",
    "data_rest.head(50)"
   ]
  },
  {
   "cell_type": "code",
   "execution_count": null,
   "metadata": {},
   "outputs": [],
   "source": [
    "data_hinshi = tmp[\"quantity\"].progress_apply(pick_hinshi,m=mecab)\n",
    "data_hinshi.value_counts().head(50)"
   ]
  },
  {
   "cell_type": "code",
   "execution_count": null,
   "metadata": {},
   "outputs": [],
   "source": [
    "print(\" \".join(tmp[\"quantity\"].values.tolist()[0:10]))\n"
   ]
  },
  {
   "cell_type": "code",
   "execution_count": 12,
   "metadata": {},
   "outputs": [
    {
     "data": {
      "text/plain": [
       "<wordcloud.wordcloud.WordCloud at 0x7f4a8f406c20>"
      ]
     },
     "execution_count": 12,
     "metadata": {},
     "output_type": "execute_result"
    }
   ],
   "source": [
    "# wordcloudで可視化\n",
    "from wordcloud import WordCloud\n",
    "\n",
    "text = WordCloud.__doc__\n",
    "wc = WordCloud(width=480, height=320,background_color=\"white\",font_path=\".//SourceHanSerifK-Light.otf\")\n",
    "wc.generate(\" \".join(tmp[\"quantity\"].values.tolist()))\n",
    "wc.to_file('ingredient_amount.png')"
   ]
  },
  {
   "cell_type": "code",
   "execution_count": 1,
   "metadata": {},
   "outputs": [
    {
     "name": "stdout",
     "output_type": "stream",
     "text": [
      "0.19862010215961065\n"
     ]
    }
   ],
   "source": [
    "import pandas as pd\n",
    "\n",
    "check = pd.read_csv(\"./data/exchanged_data_rakuten.csv\")\n",
    "print(len(check[check[\"digit\"] == 0.])/len(check))"
   ]
  },
  {
   "cell_type": "code",
   "execution_count": 4,
   "metadata": {},
   "outputs": [],
   "source": [
    "# 食材ベクトルの生成\n",
    "\n",
    "import json\n",
    "import numpy as np\n",
    "import pandas as pd\n",
    "\n",
    "ingredients_vec = {}\n",
    "with open(\"./data/recipe_ingredients_rakuten.json\",\"r\") as f:\n",
    "    ingredients_data = json.load(f)\n",
    "\n",
    "# 変換表の読み込み\n",
    "exchange_data = pd.read_csv(\"./data/exchange_complete.csv\")\n",
    "\n",
    "for recipe in ingredients_data.items():\n",
    "    tmp = np.zeros(499,dtype=\"float\")\n",
    "    for ingre in recipe[1].items():\n",
    "        match_ingre = exchange_data.query('name == \"{}\"'.format(ingre[0]))\n",
    "        tmp[match_ingre[0:1].kind_index] = ingre[1]\n",
    "    ingredients_vec[recipe[0]] = tmp\n",
    "\n",
    "np.save(\"./rakuten_content_vec.npy\",ingredients_vec)"
   ]
  },
  {
   "cell_type": "code",
   "execution_count": null,
   "metadata": {},
   "outputs": [],
   "source": [
    "#　クックパッドコンテンツデータの生成\n",
    "import pandas as pd\n",
    "\n",
    "content = pd.read_csv(\"./data/taken_recipes.csv\")\n",
    "content.head()"
   ]
  },
  {
   "cell_type": "code",
   "execution_count": 8,
   "metadata": {},
   "outputs": [],
   "source": [
    "cookpad_content = {}\n",
    "with open(\"./data/cookpad_recipe_ingredients.json\",\"r\") as f:\n",
    "    ingredients_data = json.load(f)\n",
    "\n",
    "for recipe in ingredients_data.items():\n",
    "    cookpad_content[recipe[0]] = content.query('recipe_id==\"{}\"'.format(recipe[0])).iat[0,2]"
   ]
  },
  {
   "cell_type": "code",
   "execution_count": 9,
   "metadata": {},
   "outputs": [],
   "source": [
    "with open(\"./cookpad_content.json\",\"w\") as f:\n",
    "    f.write(json.dumps(cookpad_content,ensure_ascii=False,indent=2))"
   ]
  }
 ],
 "metadata": {
  "interpreter": {
   "hash": "d4d1e4263499bec80672ea0156c357c1ee493ec2b1c70f0acce89fc37c4a6abe"
  },
  "kernelspec": {
   "display_name": "Python 3.9.7 ('base')",
   "language": "python",
   "name": "python3"
  },
  "language_info": {
   "codemirror_mode": {
    "name": "ipython",
    "version": 3
   },
   "file_extension": ".py",
   "mimetype": "text/x-python",
   "name": "python",
   "nbconvert_exporter": "python",
   "pygments_lexer": "ipython3",
   "version": "3.10.8 | packaged by conda-forge | (main, Nov 22 2022, 08:26:04) [GCC 10.4.0]"
  },
  "orig_nbformat": 4
 },
 "nbformat": 4,
 "nbformat_minor": 2
}
