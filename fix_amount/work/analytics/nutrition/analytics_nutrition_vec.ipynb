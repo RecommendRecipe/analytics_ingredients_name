{
 "cells": [
  {
   "cell_type": "code",
   "execution_count": 12,
   "metadata": {},
   "outputs": [
    {
     "name": "stdout",
     "output_type": "stream",
     "text": [
      "23607\n"
     ]
    }
   ],
   "source": [
    "import pandas as pd\n",
    "\n",
    "nutrition_vec = pd.read_csv(\"../data/recipe_data/recipe_nutrition_cookpad.csv\")\n",
    "#nutrition_vec.describe()\n",
    "print(len(nutrition_vec))"
   ]
  },
  {
   "cell_type": "code",
   "execution_count": 2,
   "metadata": {},
   "outputs": [
    {
     "data": {
      "text/plain": [
       "'b2f1c7b9dfd9c7bc2df3eeb6fbca4e2f49201c77'"
      ]
     },
     "execution_count": 2,
     "metadata": {},
     "output_type": "execute_result"
    }
   ],
   "source": [
    "nutrition_vec.iat[0,1]"
   ]
  },
  {
   "cell_type": "code",
   "execution_count": 3,
   "metadata": {},
   "outputs": [
    {
     "name": "stdout",
     "output_type": "stream",
     "text": [
      "b2f1c7b9dfd9c7bc2df3eeb6fbca4e2f49201c77\n"
     ]
    }
   ],
   "source": [
    "\"\"\"\n",
    "栄養素のcosimの算出\n",
    "\"\"\"\n",
    "from sklearn.metrics.pairwise import cosine_similarity\n",
    "import numpy as np\n",
    "data  = nutrition_vec[[\"kcal\",\"water\",\"prot\",\\\n",
    "    \"chole\",\"fat\",\"fib\",\"polyl\",\"na\",\"k\",\"ca\",\"mg\",\"p\",\"fe\",\"zn\",\"cu\",\"mn\",\\\n",
    "        \"iodine\",\"se\",\"cr\",\"mo\",\"vitd\",\"vitk\",\"thla\",\"ribf\",\"nia\",\"vitb12\",\"fol\",\\\n",
    "            \"pantac\",\"biot\",\"vitc\"]]\n",
    "\n",
    "test_vec = data.values[0]\n",
    "cos_sim = cosine_similarity([test_vec],data.values)\n",
    "print(nutrition_vec.iat[np.argmax(cos_sim),1])"
   ]
  },
  {
   "cell_type": "code",
   "execution_count": 2,
   "metadata": {},
   "outputs": [
    {
     "data": {
      "text/plain": [
       "23607"
      ]
     },
     "execution_count": 2,
     "metadata": {},
     "output_type": "execute_result"
    }
   ],
   "source": [
    "\"\"\"\n",
    "食材のcos類似度の算出\n",
    "\"\"\"\n",
    "import json\n",
    "with open(\"../data/recipe_data/cookpad_recipes.json\",\"r\") as f:\n",
    "    recipe_amount = json.load(f)\n",
    "len(recipe_amount)"
   ]
  },
  {
   "cell_type": "code",
   "execution_count": 4,
   "metadata": {},
   "outputs": [
    {
     "name": "stdout",
     "output_type": "stream",
     "text": [
      "<class 'list'>\n",
      "b2f1c7b9dfd9c7bc2df3eeb6fbca4e2f49201c77\n"
     ]
    }
   ],
   "source": [
    "import math\n",
    "import numpy as np\n",
    "cos_sim = []\n",
    "test_ingre_vec = recipe_amount[\"b2f1c7b9dfd9c7bc2df3eeb6fbca4e2f49201c77\"]\n",
    "\n",
    "#　ユーザーベクトルの距離算出のために各要素の２乗を計算\n",
    "search_vec_distance = 0\n",
    "\n",
    "for ingredient in test_ingre_vec.items():\n",
    "    search_vec_distance += ingredient[1] ** 2\n",
    "\n",
    "for recipe in recipe_amount.items():\n",
    "    match_ingre_list = []\n",
    "    innor_pro = 0\n",
    "    content_vec_distance = 0\n",
    "\n",
    "    for ingredient in recipe[1].items():\n",
    "        if ingredient[0] in test_ingre_vec:\n",
    "            content_vec_distance += ingredient[1] ** 2\n",
    "            match_ingre_list.append(ingredient[0])\n",
    "            innor_pro += ingredient[1] * test_ingre_vec[ingredient[0]]\n",
    "    \n",
    "    if len(match_ingre_list) == 0:\n",
    "        cos_sim.append(0.0)\n",
    "    else:\n",
    "        cos_sim.append(innor_pro/ (math.sqrt(search_vec_distance) * math.sqrt(content_vec_distance) ))\n",
    "recipe_amount_list = list(recipe_amount.keys())\n",
    "print(type(recipe_amount_list))\n",
    "print(recipe_amount_list[np.argmax(cos_sim)])"
   ]
  },
  {
   "cell_type": "code",
   "execution_count": 23,
   "metadata": {},
   "outputs": [
    {
     "name": "stdout",
     "output_type": "stream",
     "text": [
      "b2f1c7b9dfd9c7bc2df3eeb6fbca4e2f49201c77\n"
     ]
    }
   ],
   "source": [
    "from tool.recommend_tool import sim\n",
    "\n",
    "print(recipe_amount_list[sim(nutrition_list=data.values,\\\n",
    "    ingredients_list=recipe_amount,user_nutrition=data.values[0],\\\n",
    "        user_ingredient=test_ingre_vec)])"
   ]
  }
 ],
 "metadata": {
  "kernelspec": {
   "display_name": "Python 3.10.5 64-bit",
   "language": "python",
   "name": "python3"
  },
  "language_info": {
   "codemirror_mode": {
    "name": "ipython",
    "version": 3
   },
   "file_extension": ".py",
   "mimetype": "text/x-python",
   "name": "python",
   "nbconvert_exporter": "python",
   "pygments_lexer": "ipython3",
   "version": "3.10.5"
  },
  "orig_nbformat": 4,
  "vscode": {
   "interpreter": {
    "hash": "9518b5d8b05613f33dd9892199209c6ea159e58ef30c24ef8a970c59421088c5"
   }
  }
 },
 "nbformat": 4,
 "nbformat_minor": 2
}
