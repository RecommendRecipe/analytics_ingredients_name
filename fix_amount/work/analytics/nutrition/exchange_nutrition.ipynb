{
 "cells": [
  {
   "cell_type": "code",
   "execution_count": 1,
   "metadata": {},
   "outputs": [],
   "source": [
    "import pandas as pd\n",
    "\n",
    "exchange = pd.read_csv(\"../data/nutrition_exchange.csv\")"
   ]
  },
  {
   "cell_type": "code",
   "execution_count": null,
   "metadata": {},
   "outputs": [],
   "source": [
    "# 栄養素変換に必要な部分のみ抽出\n",
    "cleaned_exchange = exchange[[\"id\",\"kcal\",\"water\",\"prot\",\\\n",
    "    \"chole\",\"fat\",\"fib\",\"polyl\",\"na\",\"k\",\"ca\",\"mg\",\"p\",\"fe\",\"zn\",\"cu\",\"mn\",\\\n",
    "        \"iodine\",\"se\",\"cr\",\"mo\",\"vitd\",\"vitk\",\"thla\",\"ribf\",\"nia\",\"vitb12\",\"fol\",\\\n",
    "            \"pantac\",\"biot\",\"vitc\"]]\n",
    "cleaned_exchange = cleaned_exchange.astype(float)\n",
    "print(cleaned_exchange.dtypes)\n",
    "cleaned_exchange.to_csv(\"../data/cleaned_nutrition_exchange.csv\")"
   ]
  },
  {
   "cell_type": "code",
   "execution_count": 6,
   "metadata": {},
   "outputs": [
    {
     "name": "stderr",
     "output_type": "stream",
     "text": [
      "100%|██████████| 24975/24975 [00:50<00:00, 495.40it/s]\n"
     ]
    }
   ],
   "source": [
    "\"\"\"\n",
    "栄養素ベクトルの生成\n",
    "\"\"\"\n",
    "import pandas as pd\n",
    "import json\n",
    "exchange_amount = pd.read_csv(\"../data/exchange_complete.csv\",names=[\"id\",\"name\",\"additonal\",\"unit\",\"g\",\"kind\"])\n",
    "\n",
    "with open(\"../data/cleaned_cookpad_ingredients.json\",\"r\") as f:\n",
    "    fix_nameToid_recipe = json.load(f)\n",
    "\n",
    "\"\"\"\n",
    "名前で記載されている食材をid表記にする\n",
    "\"\"\"\n",
    "fixed_recipes = {} # 本当はリストで保存はしないが、都合がよいので辞書型にはしない\n",
    "\n",
    "for recipe in fix_nameToid_recipe.items():\n",
    "    fixed_recipe = {}\n",
    "    for ingredient in recipe[1].items():\n",
    "        tmp = exchange_amount[exchange_amount[\"name\"] == ingredient[0]]\n",
    "        tmp = tmp[~tmp.duplicated(subset=\"name\")]\n",
    "        fixed_recipe[str(tmp[\"id\"].tolist()[0])] = ingredient[1]\n",
    "    fixed_recipes[recipe[0]] = fixed_recipe\n",
    "\n",
    "output = json.dumps(fixed_recipes,ensure_ascii=False,indent=2)\n",
    "\n",
    "with open(\"../data/id_cookpad_recipes.json\",\"w\") as f:\n",
    "    f.write(output)\n",
    "\n",
    "import numpy as np\n",
    "from tqdm import tqdm as tq\n",
    "\n",
    "nutrition_list = []\n",
    "\n",
    "for recipe in tq(fixed_recipes.items(), total=len(fixed_recipes)):\n",
    "  nutrition = np.arange(30,dtype=float)\n",
    "  for ingredient in recipe[1].items():\n",
    "    tmp = cleaned_exchange[cleaned_exchange[\"id\"] == float(ingredient[0])]\n",
    "    nutrition += tmp[[\"kcal\",\"water\",\"prot\",\\\n",
    "    \"chole\",\"fat\",\"fib\",\"polyl\",\"na\",\"k\",\"ca\",\"mg\",\"p\",\"fe\",\"zn\",\"cu\",\"mn\",\\\n",
    "        \"iodine\",\"se\",\"cr\",\"mo\",\"vitd\",\"vitk\",\"thla\",\"ribf\",\"nia\",\"vitb12\",\"fol\",\\\n",
    "            \"pantac\",\"biot\",\"vitc\"]].values[0] * ingredient[1] * 0.01\n",
    "  nutrition_row = []\n",
    "  nutrition_row.append(recipe[0])\n",
    "  for digit in nutrition:\n",
    "    nutrition_row.append(digit)\n",
    "  nutrition_list.append(nutrition_row)\n",
    "\n",
    "recipe_nutrition = pd.DataFrame(nutrition_list, columns=[\"id\",\"kcal\",\"water\",\"prot\",\\\n",
    "    \"chole\",\"fat\",\"fib\",\"polyl\",\"na\",\"k\",\"ca\",\"mg\",\"p\",\"fe\",\"zn\",\"cu\",\"mn\",\\\n",
    "        \"iodine\",\"se\",\"cr\",\"mo\",\"vitd\",\"vitk\",\"thla\",\"ribf\",\"nia\",\"vitb12\",\"fol\",\\\n",
    "            \"pantac\",\"biot\",\"vitc\"])\n",
    "recipe_nutrition.to_csv('../data/recipe_nutrition_cookpad.csv')"
   ]
  },
  {
   "cell_type": "code",
   "execution_count": 5,
   "metadata": {},
   "outputs": [
    {
     "name": "stderr",
     "output_type": "stream",
     "text": [
      "100%|██████████| 24975/24975 [11:14<00:00, 37.03it/s]\n"
     ]
    }
   ],
   "source": [
    "\"\"\"\n",
    "何人前かの情報で除算する処理\n",
    "\"\"\"\n",
    "\n",
    "recipes = pd.read_csv(\"../data/taken_recipes.csv\")\n",
    "recipes = recipes[[\"recipe_id\",\"title\",\"serving_for\"]]\n",
    "with open(\"../data/cookpad_recipe_ingredients.json\",\"r\") as f:\n",
    "    recipe_amount = json.load(f)\n",
    "  \n",
    "import numpy as np\n",
    "from tqdm import tqdm as tq\n",
    "nutrition_list = []\n",
    "cleaned_recipes ={}\n",
    "\n",
    "for recipe in tq(recipe_amount.items(), total=len(recipe_amount)):\n",
    "  \n",
    "  serving_for = recipes[recipes[\"recipe_id\"] == recipe[0]].values[0][2]\n",
    "  tmp = {}\n",
    "  for ingredient in recipe[1].items():\n",
    "    tmp[ingredient[0]] = ingredient[1] / serving_for\n",
    "  \n",
    "  cleaned_recipes[recipe[0]] = tmp\n",
    "\n",
    "output = json.dumps(cleaned_recipes,ensure_ascii=False,indent=2)\n",
    "with open(\"../data/cleaned_cookpad_ingredients.json\",\"w\") as f:\n",
    "    f.write(output)    "
   ]
  },
  {
   "cell_type": "code",
   "execution_count": 7,
   "metadata": {},
   "outputs": [],
   "source": [
    "# 食材ベクトルの生成\n",
    "\n",
    "import json\n",
    "import numpy as np\n",
    "import pandas as pd\n",
    "\n",
    "ingredients_vec = {}\n",
    "with open(\"../data/cleaned_cookpad_ingredients.json\",\"r\") as f:\n",
    "    ingredients_data = json.load(f)\n",
    "\n",
    "# 変換表の読み込み\n",
    "exchange_data = pd.read_csv(\"../data/exchange_complete.csv\")\n",
    "\n",
    "for recipe in ingredients_data.items():\n",
    "    tmp = np.zeros(499,dtype=\"float\")\n",
    "    for ingre in recipe[1].items():\n",
    "        match_ingre = exchange_data.query('name == \"{}\"'.format(ingre[0]))\n",
    "        tmp[match_ingre[0:1].kind_index] = ingre[1]\n",
    "    ingredients_vec[recipe[0]] = tmp\n",
    "\n",
    "np.save(\"./cookpad_content_vec.npy\",ingredients_vec)"
   ]
  },
  {
   "cell_type": "code",
   "execution_count": 103,
   "metadata": {},
   "outputs": [
    {
     "name": "stderr",
     "output_type": "stream",
     "text": [
      "100%|██████████| 1380094/1380094 [00:13<00:00, 102791.02it/s]\n"
     ]
    }
   ],
   "source": [
    "\"\"\"\n",
    "rakutenデータの分量情報を抽出\n",
    "\"\"\"\n",
    "import re\n",
    "from kanjize import kanji2int\n",
    "import mojimoji\n",
    "rakuten_recipes = pd.read_csv(\"../data/recipe_data/rakuten_scray_recipes.csv\",names=[\"recipe_id\",\"title\",\"serving_for\"])\n",
    "rakuten_recipes[\"serving_for\"] = rakuten_recipes[\"serving_for\"].fillna(\"1\")\n",
    "rakuten_serving_for = []\n",
    "\n",
    "for recipe in tq(rakuten_recipes.itertuples(),total=len(rakuten_recipes)):\n",
    "    try:\n",
    "        serving_for_num = re.match(\"[0-9０-９一二三四五六七八九十]*\",recipe.serving_for)[0]\n",
    "        serving_for_num = mojimoji.zen_to_han(serving_for_num)\n",
    "        serving_for_num = kanji2int(serving_for_num)\n",
    "        rakuten_serving_for.append(int(serving_for_num))\n",
    "    except Exception as e:\n",
    "        print(e,\"\\n\",recipe.serving_for)\n",
    "        break\n"
   ]
  },
  {
   "cell_type": "code",
   "execution_count": 114,
   "metadata": {},
   "outputs": [
    {
     "data": {
      "text/plain": [
       "'10'"
      ]
     },
     "execution_count": 114,
     "metadata": {},
     "output_type": "execute_result"
    }
   ],
   "source": [
    "re.match(\"[0-9０-９一二三四五六七八九十]*\",\"10人\")[0]"
   ]
  },
  {
   "cell_type": "code",
   "execution_count": 118,
   "metadata": {},
   "outputs": [],
   "source": [
    "rakuten_recipes[\"serving_for\"] = rakuten_serving_for\n",
    "rakuten_recipes.loc[rakuten_recipes[\"serving_for\"] == 0,\"serving_for\"] = 1\n",
    "rakuten_recipes.to_csv(\"../data/recipe_data/rakuten_recipes.csv\")"
   ]
  },
  {
   "cell_type": "code",
   "execution_count": 119,
   "metadata": {},
   "outputs": [
    {
     "data": {
      "text/html": [
       "<div>\n",
       "<style scoped>\n",
       "    .dataframe tbody tr th:only-of-type {\n",
       "        vertical-align: middle;\n",
       "    }\n",
       "\n",
       "    .dataframe tbody tr th {\n",
       "        vertical-align: top;\n",
       "    }\n",
       "\n",
       "    .dataframe thead th {\n",
       "        text-align: right;\n",
       "    }\n",
       "</style>\n",
       "<table border=\"1\" class=\"dataframe\">\n",
       "  <thead>\n",
       "    <tr style=\"text-align: right;\">\n",
       "      <th></th>\n",
       "      <th>serving_for</th>\n",
       "    </tr>\n",
       "  </thead>\n",
       "  <tbody>\n",
       "    <tr>\n",
       "      <th>count</th>\n",
       "      <td>1.380094e+06</td>\n",
       "    </tr>\n",
       "    <tr>\n",
       "      <th>mean</th>\n",
       "      <td>2.717031e+00</td>\n",
       "    </tr>\n",
       "    <tr>\n",
       "      <th>std</th>\n",
       "      <td>1.342865e+01</td>\n",
       "    </tr>\n",
       "    <tr>\n",
       "      <th>min</th>\n",
       "      <td>1.000000e+00</td>\n",
       "    </tr>\n",
       "    <tr>\n",
       "      <th>25%</th>\n",
       "      <td>1.000000e+00</td>\n",
       "    </tr>\n",
       "    <tr>\n",
       "      <th>50%</th>\n",
       "      <td>2.000000e+00</td>\n",
       "    </tr>\n",
       "    <tr>\n",
       "      <th>75%</th>\n",
       "      <td>3.000000e+00</td>\n",
       "    </tr>\n",
       "    <tr>\n",
       "      <th>max</th>\n",
       "      <td>3.200000e+03</td>\n",
       "    </tr>\n",
       "  </tbody>\n",
       "</table>\n",
       "</div>"
      ],
      "text/plain": [
       "        serving_for\n",
       "count  1.380094e+06\n",
       "mean   2.717031e+00\n",
       "std    1.342865e+01\n",
       "min    1.000000e+00\n",
       "25%    1.000000e+00\n",
       "50%    2.000000e+00\n",
       "75%    3.000000e+00\n",
       "max    3.200000e+03"
      ]
     },
     "execution_count": 119,
     "metadata": {},
     "output_type": "execute_result"
    }
   ],
   "source": [
    "rakuten_recipes.describe()"
   ]
  },
  {
   "cell_type": "code",
   "execution_count": 2,
   "metadata": {},
   "outputs": [],
   "source": [
    "import json\n",
    "\n",
    "with open(\"../data/recipe_data/cleaned_cookpad_recipes.json\",\"r\") as f:\n",
    "    pick_id_recipes = json.load(f)\n",
    "\n",
    "cookpad_id_list = []\n",
    "\n",
    "for recipe in pick_id_recipes.items():\n",
    "    cookpad_id_list.append(recipe[0])\n",
    "\n",
    "with open(\"../data/recipe_data/cookpad_id_list.txt\",\"w\") as f:\n",
    "    f.write(\",\".join(cookpad_id_list))"
   ]
  }
 ],
 "metadata": {
  "kernelspec": {
   "display_name": "base",
   "language": "python",
   "name": "python3"
  },
  "language_info": {
   "codemirror_mode": {
    "name": "ipython",
    "version": 3
   },
   "file_extension": ".py",
   "mimetype": "text/x-python",
   "name": "python",
   "nbconvert_exporter": "python",
   "pygments_lexer": "ipython3",
   "version": "3.10.8 | packaged by conda-forge | (main, Nov 22 2022, 08:26:04) [GCC 10.4.0]"
  },
  "orig_nbformat": 4,
  "vscode": {
   "interpreter": {
    "hash": "d4d1e4263499bec80672ea0156c357c1ee493ec2b1c70f0acce89fc37c4a6abe"
   }
  }
 },
 "nbformat": 4,
 "nbformat_minor": 2
}
