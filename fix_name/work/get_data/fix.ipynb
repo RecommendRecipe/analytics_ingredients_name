{
 "cells": [
  {
   "cell_type": "code",
   "execution_count": null,
   "metadata": {},
   "outputs": [],
   "source": [
    "\"\"\"\n",
    "うまく処理できなかった際に埋め合わせをするスクリプトです\n",
    "\"\"\""
   ]
  },
  {
   "cell_type": "code",
   "execution_count": 1,
   "metadata": {},
   "outputs": [
    {
     "name": "stderr",
     "output_type": "stream",
     "text": [
      "100%|██████████| 1380094/1380094 [00:00<00:00, 2676604.11it/s]\n"
     ]
    }
   ],
   "source": [
    "\"\"\"\n",
    "現在取得できているurlの確認\n",
    "\"\"\"\n",
    "import glob\n",
    "import json\n",
    "from tqdm import tqdm as tq\n",
    "\n",
    "taken_urls = []\n",
    "files = glob.glob(\"../data/train_data/rakuten_json/*.json\")\n",
    "rakuten_scray_recipes = []\n",
    "\n",
    "for file_url in files:\n",
    "    json_open = open(file_url, 'r')\n",
    "    tmp = json.load(json_open)\n",
    "    rakuten_scray_recipes += tmp\n",
    "    json_open.close()\n",
    "\n",
    "for recipe in tq(rakuten_scray_recipes,total=len(rakuten_scray_recipes)):\n",
    "    taken_urls.append('/recipe' + '/' + recipe[\"id\"][6:] + '/')\n",
    "\n",
    "with open(\"../data/url_list/rakuten_url.txt\",\"w\") as f:\n",
    "    f.write(\",\".join(taken_urls))"
   ]
  },
  {
   "cell_type": "code",
   "execution_count": 7,
   "metadata": {},
   "outputs": [
    {
     "data": {
      "text/plain": [
       "'/recipe/1970009677/'"
      ]
     },
     "execution_count": 7,
     "metadata": {},
     "output_type": "execute_result"
    }
   ],
   "source": [
    "taken_urls[0]"
   ]
  },
  {
   "cell_type": "code",
   "execution_count": 2,
   "metadata": {},
   "outputs": [],
   "source": [
    "\"\"\"\n",
    "取得できていないコンテンツの確認\n",
    "\"\"\"\n",
    "\n",
    "with open(\"../data/url_list/rakuten_url_tmp.txt\",\"r\") as f:\n",
    "    get_list = f.read().split(',')\n",
    "get_list = set(get_list)\n",
    "\n",
    "with open(\"../data/url_list/rakuten_url.txt\",\"r\") as f:\n",
    "    exist_list = f.read().split(',')\n",
    "exist_list = set(exist_list)\n",
    "\n",
    "untaken_list = get_list.difference(exist_list)\n",
    "with open(\"../data/url_list/rakuten_url_untaken.txt\",\"w\") as f:\n",
    "    f.write(\",\".join(list(untaken_list)))"
   ]
  }
 ],
 "metadata": {
  "kernelspec": {
   "display_name": "Python 3.10.6 ('base')",
   "language": "python",
   "name": "python3"
  },
  "language_info": {
   "codemirror_mode": {
    "name": "ipython",
    "version": 3
   },
   "file_extension": ".py",
   "mimetype": "text/x-python",
   "name": "python",
   "nbconvert_exporter": "python",
   "pygments_lexer": "ipython3",
   "version": "3.10.6"
  },
  "orig_nbformat": 4,
  "vscode": {
   "interpreter": {
    "hash": "d4d1e4263499bec80672ea0156c357c1ee493ec2b1c70f0acce89fc37c4a6abe"
   }
  }
 },
 "nbformat": 4,
 "nbformat_minor": 2
}
