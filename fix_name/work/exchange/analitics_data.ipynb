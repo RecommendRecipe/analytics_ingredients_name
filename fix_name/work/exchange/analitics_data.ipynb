{
 "cells": [
  {
   "cell_type": "code",
   "execution_count": 2,
   "metadata": {},
   "outputs": [
    {
     "name": "stderr",
     "output_type": "stream",
     "text": [
      "/tmp/ipykernel_19490/2696696207.py:10: DtypeWarning: Columns (3) have mixed types. Specify dtype option on import or set low_memory=False.\n",
      "  data = pd.read_csv(\"../data/fixed_recommend_ingredients.csv\")\n"
     ]
    },
    {
     "name": "stdout",
     "output_type": "stream",
     "text": [
      "生データの総数 1000\n",
      "削除後 1000\n"
     ]
    }
   ],
   "source": [
    "\"\"\"\n",
    "食材を読み込んで簡単な前処理をする。\n",
    "\n",
    "\"\"\"\n",
    "import pandas as pd\n",
    "import MeCab\n",
    "from tqdm import tqdm as progress\n",
    "\n",
    "# 食材名データの読み込み\n",
    "data = pd.read_csv(\"../data/fixed_recommend_ingredients.csv\")\n",
    "# 変換表の読み込み\n",
    "exchange = pd.read_csv(\"../data/exchange_before.csv\",names=[\"id\",\"name\",\"plus\",\"unit\",\"g\"])\n",
    "# カナに統一した変換表の読み込み\n",
    "exchange_kana = pd.read_csv(\"../data/exchanged_map.csv\")\n",
    "\n",
    "# 必要な情報のみ抽出\n",
    "exchange_kana = exchange_kana[[\"id\",\"name\"]]\n",
    "data = data[[\"id\",\"name\"]]\n",
    "\n",
    "data = data.head(1000)\n",
    "\n",
    "m = MeCab.Tagger(\"-d /usr/lib/x86_64-linux-gnu/mecab/dic/mecab-ipadic-neologd\")\n",
    "\n",
    "#　空欄のデータは削除\n",
    "print(\"生データの総数\",len(data))\n",
    "data = data.dropna(subset=[\"name\"])\n",
    "print(\"削除後\",len(data))\n",
    "data[\"result\"] = \"empty\""
   ]
  },
  {
   "cell_type": "code",
   "execution_count": 4,
   "metadata": {},
   "outputs": [
    {
     "name": "stderr",
     "output_type": "stream",
     "text": [
      "100%|██████████| 1000/1000 [00:00<00:00, 52735.99it/s]\n"
     ]
    }
   ],
   "source": [
    "\"\"\"\n",
    "食材名から名詞部分を抜き出す関数\n",
    "名詞が一つの場合はその読みを返す。\n",
    "入力が文字列でない場合はNoneを返す\n",
    "複数の名詞がある場合には区切り文字を;にして連結する\n",
    "名詞ではあるが、,を区切り文字とした場合に辞書の8番目に読みがない場合は\n",
    "先頭に?をつけて返している。\n",
    "名詞がない場合は引数の先頭に#を付けて返す\n",
    "\"\"\"\n",
    "\n",
    "def pick_ingredients(words,m):\n",
    "  # 分かち書きの正常結果を格納\n",
    "  tmp_ingredients = []\n",
    "\n",
    "  # 値がNoneのものを除外\n",
    "  if type(words) != str:\n",
    "    return None\n",
    "  \n",
    "  parsed_text = m.parseToNode(words)\n",
    "  while parsed_text:\n",
    "    node = parsed_text.feature.split(',')\n",
    "    # 正常な名詞のみ抽出\n",
    "    if node[0] == \"名詞\" and node[2] !=\"組織\":\n",
    "      try:\n",
    "        tmp_ingredients.append(node[6])\n",
    "      except IndexError:\n",
    "        tmp_ingredients.append( \"?\" + parsed_text.surface)\n",
    "    else:\n",
    "      pass\n",
    "    parsed_text = parsed_text.next\n",
    "  \n",
    "  length = len(tmp_ingredients)\n",
    "  if length == 1:\n",
    "    return tmp_ingredients[0]\n",
    "  elif length >= 2:\n",
    "    return ';'.join(tmp_ingredients)\n",
    "  else:\n",
    "    return '#'+words\n",
    "\n",
    "\n",
    "# 進捗を確認\n",
    "progress.pandas()\n",
    "# 関数を適応\n",
    "data['wakati'] = data['name'].progress_apply(pick_ingredients,m=m)"
   ]
  },
  {
   "cell_type": "code",
   "execution_count": 7,
   "metadata": {},
   "outputs": [],
   "source": [
    "\"\"\"\n",
    "step1,2\n",
    "\"\"\"\n",
    "\n",
    "def exchange_map_ingre(ingredients,exchange):\n",
    "  # 食材名がない場合\n",
    "  if ingredients == None:\n",
    "    return ingredients\n",
    "  elif '#' in ingredients:\n",
    "    return ingredients\n",
    "\n",
    "  ingre = pd.DataFrame([])\n",
    "\n",
    "  # 複数の食材名候補がある場合\n",
    "  if \";\" in ingredients:\n",
    "    tmp_ingredients = ingredients.split(\";\")\n",
    "    for tmp in tmp_ingredients:\n",
    "      if \"?\" in tmp:\n",
    "        pass\n",
    "      else:\n",
    "        # バグを発見\n",
    "        match_ingre = exchange[exchange[\"name\"] == tmp]\n",
    "        match_ingre = match_ingre[~match_ingre.duplicated(subset='name')]\n",
    "        ingre = pd.concat([ingre,match_ingre])\n",
    "  else:\n",
    "    # 食材名が一つの時\n",
    "    if \"?\" in ingredients:\n",
    "      return ingredients\n",
    "    ingre = exchange[exchange[\"name\"] == ingredients]\n",
    "    ingre = ingre[~ingre.duplicated(subset='name')]\n",
    "  \n",
    "  # マッチしてないときのサポート\n",
    "  if ingre.empty:\n",
    "    return \"empty\"\n",
    "\n",
    "  return ';'.join(map(str,ingre[\"id\"].tolist()))"
   ]
  },
  {
   "cell_type": "code",
   "execution_count": null,
   "metadata": {},
   "outputs": [],
   "source": [
    "\"\"\"\n",
    "step1\n",
    "\"\"\"\n",
    "step1 = data\n",
    "step1[\"result\"] = data[\"wakati\"].progress_apply(exchange_map_ingre, exchange=exchange)\n",
    "print(len(step1[~step1[\"result\"].str.contains(\"empty\")]))\n",
    "step1[step1[\"result\"].str.contains(\"empty\")].head(50)"
   ]
  },
  {
   "cell_type": "code",
   "execution_count": null,
   "metadata": {},
   "outputs": [],
   "source": [
    "step2 = step1[step1[\"result\"].str.contains(\"empty\")]\n",
    "step2[\"result\"] =  step2[\"name\"].progress_apply(exchange_map_ingre, exchange=exchange_kana)\n",
    "print(len(step2[~step2[\"result\"].str.contains(\"empty\")]))\n",
    "step2[step2[\"result\"].str.contains(\"empty\")].head(50)"
   ]
  },
  {
   "cell_type": "code",
   "execution_count": 9,
   "metadata": {},
   "outputs": [],
   "source": [
    "\"\"\"\n",
    "step3\n",
    "変換先をidじゃなくて食材名に変更\n",
    "\"\"\"\n",
    "\n",
    "def exchange_map_ingre(ingredients,exchange):\n",
    "  # 食材名がない場合\n",
    "  if ingredients == None:\n",
    "    return ingredients\n",
    "  elif '#' in ingredients:\n",
    "    return ingredients\n",
    "\n",
    "  ingre = pd.DataFrame([])\n",
    "\n",
    "  # 複数の食材名候補がある場合\n",
    "  if \";\" in ingredients:\n",
    "    tmp_ingredients = ingredients.split(\";\")\n",
    "    for tmp in tmp_ingredients:\n",
    "      if \"?\" in tmp:\n",
    "        pass\n",
    "      else:\n",
    "        # バグを発見\n",
    "        match_ingre = exchange[exchange[\"name\"] == tmp]\n",
    "        match_ingre = match_ingre[~match_ingre.duplicated(subset='name')]\n",
    "        ingre = pd.concat([ingre,match_ingre])\n",
    "  else:\n",
    "    # 食材名が一つの時\n",
    "    if \"?\" in ingredients:\n",
    "      return ingredients\n",
    "    ingre = exchange[exchange[\"name\"] == ingredients]\n",
    "    ingre = ingre[~ingre.duplicated(subset='name')]\n",
    "  \n",
    "  # マッチしてないときのサポート\n",
    "  if ingre.empty:\n",
    "    return \"empty\"\n",
    "  \n",
    "  # step2との変更箇所\n",
    "  return ';'.join(map(str,ingre[\"result\"].tolist()))\n",
    "\n",
    "# 正解データセットをインポート\n",
    "correct_data = pd.read_excel(\"../data/correct_data_set.xlsx\")"
   ]
  },
  {
   "cell_type": "code",
   "execution_count": null,
   "metadata": {},
   "outputs": [],
   "source": [
    "step3 = step2[step2[\"result\"].str.contains(\"empty\")]\n",
    "step3[\"result\"] = step3[\"wakati\"].progress_apply(exchange_map_ingre, exchange=correct_data)\n",
    "print(len(step3[~step3[\"result\"].str.contains(\"empty\")]))\n",
    "step3[step3[\"result\"].str.contains(\"empty\")].head(50)"
   ]
  },
  {
   "cell_type": "code",
   "execution_count": null,
   "metadata": {},
   "outputs": [],
   "source": [
    "import pandas as pd\n",
    "\n",
    "cookpad_data = pd.read_csv(\"../data/cookpad_ingredients.csv\",names=[\"id\",\"name\",\"quantity\"],dtype=\"str\")\n",
    "rakuten_data = pd.read_csv(\"../data/rakuten_ingredients.csv\",names=[\"id\",\"name\",\"quantity\"],dtype=\"str\")\n",
    "\n",
    "data = pd.concat([rakuten_data,cookpad_data])\n",
    "data.to_csv(\"../data/exchange_ingredients.csv\")"
   ]
  },
  {
   "cell_type": "code",
   "execution_count": 1,
   "metadata": {},
   "outputs": [
    {
     "name": "stdout",
     "output_type": "stream",
     "text": [
      "21520247\n"
     ]
    }
   ],
   "source": [
    "import pandas as pd\n",
    "\n",
    "data = pd.read_csv(\"../data/exchange_data/fixed_name_data.csv\")\n",
    "print(len(data))"
   ]
  }
 ],
 "metadata": {
  "interpreter": {
   "hash": "d4d1e4263499bec80672ea0156c357c1ee493ec2b1c70f0acce89fc37c4a6abe"
  },
  "kernelspec": {
   "display_name": "Python 3.9.7 64-bit ('base': conda)",
   "language": "python",
   "name": "python3"
  },
  "language_info": {
   "codemirror_mode": {
    "name": "ipython",
    "version": 3
   },
   "file_extension": ".py",
   "mimetype": "text/x-python",
   "name": "python",
   "nbconvert_exporter": "python",
   "pygments_lexer": "ipython3",
   "version": "3.10.8"
  },
  "orig_nbformat": 4
 },
 "nbformat": 4,
 "nbformat_minor": 2
}
