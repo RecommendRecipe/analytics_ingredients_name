{
 "cells": [
  {
   "cell_type": "code",
   "execution_count": null,
   "metadata": {},
   "outputs": [],
   "source": [
    "from gensim.models import KeyedVectors\n",
    "\n",
    "recipe_wv = KeyedVectors.load_word2vec_format('../data/trained_data/recipe_m1_v500_min5_w4.vec.pt', binary=True)"
   ]
  }
 ],
 "metadata": {
  "language_info": {
   "name": "plaintext"
  },
  "orig_nbformat": 4
 },
 "nbformat": 4,
 "nbformat_minor": 2
}
