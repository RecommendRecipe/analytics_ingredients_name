{
 "cells": [
  {
   "cell_type": "code",
   "execution_count": 1,
   "metadata": {},
   "outputs": [],
   "source": [
    "\"\"\"\n",
    "準備\n",
    "\"\"\"\n",
    "import pandas as pd\n",
    "import MeCab\n",
    "from tqdm import tqdm as tq\n",
    "\n",
    "import re\n",
    "clean_text = re.compile('[!\"#$＄%&\\'\\\\\\\\()*+,-./:：;<=>?@[\\\\]^_`{|}~「」｣〔〕＜＞～“”〈〉『』【】＆＊✴・（）↑＄＃＠Ⓣ。、？…！｀＋￥％⚫︎⭕〇◯△◇☆✩☆✧･　※ ◎○▼▲■◆♦●★♡┗└┌✿ё◉♪♫♬]')"
   ]
  },
  {
   "cell_type": "code",
   "execution_count": 5,
   "metadata": {},
   "outputs": [
    {
     "name": "stdout",
     "output_type": "stream",
     "text": [
      "1380094\n"
     ]
    },
    {
     "name": "stderr",
     "output_type": "stream",
     "text": [
      "100%|██████████| 1380094/1380094 [04:25<00:00, 5197.89it/s]\n"
     ]
    },
    {
     "name": "stdout",
     "output_type": "stream",
     "text": [
      "445367645\n"
     ]
    }
   ],
   "source": [
    "\"\"\"\n",
    "rakutenのjsonデータから学習データの生成\n",
    "\"\"\"\n",
    "import glob\n",
    "import json\n",
    "import MeCab\n",
    "\n",
    "files = glob.glob(\"../data/train_data/rakuten_json/*.json\")\n",
    "\n",
    "rakuten_scray_recipes = []\n",
    "\n",
    "for file_url in files:\n",
    "  json_open = open(file_url, 'r')\n",
    "  tmp = json.load(json_open)\n",
    "  rakuten_scray_recipes += tmp\n",
    "\n",
    "print(len(rakuten_scray_recipes))\n",
    "\n",
    "rakuten_train_text = \"\"\n",
    "m = MeCab.Tagger(\"-d /usr/lib/x86_64-linux-gnu/mecab/dic/mecab-ipadic-neologd -Owakati\")\n",
    "\n",
    "for recipe in tq(rakuten_scray_recipes,total=len(rakuten_scray_recipes)):\n",
    "  tmp = \"\"\n",
    "  tmp += recipe[\"title\"].replace(\" \\n\",\"\").replace(\"レシピ・作り方\",\"\") + \"\\n\"\n",
    "  tmp += recipe[\"comment\"].replace(\" \\n\",\"\") + \"\\n\"\n",
    "  tmp += \"\\n\".join(recipe[\"step\"]) + \"\\n\"\n",
    "  tmp += recipe[\"sub_comment\"].replace(\" \\n\",\"\") + \"\\n\"\n",
    "  tmp += recipe[\"hint\"].replace(\" \\n\",\"\") + \"\\n\"\n",
    "  tmp = re.sub(clean_text,\"\",tmp)\n",
    "  rakuten_train_text += m.parse(tmp)\n",
    "\n",
    "print(len(rakuten_train_text))\n",
    "\n",
    "file = open(\"../data/train_data/rakuten_scray_train.txt\",'w',encoding=\"utf-8\")\n",
    "file.write(rakuten_train_text)\n",
    "file.close()"
   ]
  },
  {
   "cell_type": "code",
   "execution_count": 2,
   "metadata": {},
   "outputs": [
    {
     "data": {
      "text/html": [
       "<div>\n",
       "<style scoped>\n",
       "    .dataframe tbody tr th:only-of-type {\n",
       "        vertical-align: middle;\n",
       "    }\n",
       "\n",
       "    .dataframe tbody tr th {\n",
       "        vertical-align: top;\n",
       "    }\n",
       "\n",
       "    .dataframe thead th {\n",
       "        text-align: right;\n",
       "    }\n",
       "</style>\n",
       "<table border=\"1\" class=\"dataframe\">\n",
       "  <thead>\n",
       "    <tr style=\"text-align: right;\">\n",
       "      <th></th>\n",
       "      <th>step</th>\n",
       "    </tr>\n",
       "  </thead>\n",
       "  <tbody>\n",
       "    <tr>\n",
       "      <th>0</th>\n",
       "      <td>栗を圧力鍋で８分蒸し半分に切って中身をスプーンで取り出す</td>\n",
       "    </tr>\n",
       "    <tr>\n",
       "      <th>1</th>\n",
       "      <td>厚手でぴっちり蓋の閉まるn鍋に移して水を加え沸騰したら弱火で２３分煮て火を止めて蓋をし３０分蒸らす</td>\n",
       "    </tr>\n",
       "    <tr>\n",
       "      <th>2</th>\n",
       "      <td>ポテトマッシャーでつぶし砂糖塩を加える</td>\n",
       "    </tr>\n",
       "    <tr>\n",
       "      <th>3</th>\n",
       "      <td>弱火にかけ鍋底に膜が付いたら火を止め少し生地で膜をふやかしてから剥がすという作業を繰り返して...</td>\n",
       "    </tr>\n",
       "    <tr>\n",
       "      <th>4</th>\n",
       "      <td>栗の色が白っぽくなったら味を決めてさらに少し練り鍋肌に生地を付けて乾燥させながら冷ます</td>\n",
       "    </tr>\n",
       "  </tbody>\n",
       "</table>\n",
       "</div>"
      ],
      "text/plain": [
       "                                                step\n",
       "0                       栗を圧力鍋で８分蒸し半分に切って中身をスプーンで取り出す\n",
       "1  厚手でぴっちり蓋の閉まるn鍋に移して水を加え沸騰したら弱火で２３分煮て火を止めて蓋をし３０分蒸らす\n",
       "2                                ポテトマッシャーでつぶし砂糖塩を加える\n",
       "3  弱火にかけ鍋底に膜が付いたら火を止め少し生地で膜をふやかしてから剥がすという作業を繰り返して...\n",
       "4        栗の色が白っぽくなったら味を決めてさらに少し練り鍋肌に生地を付けて乾燥させながら冷ます"
      ]
     },
     "execution_count": 2,
     "metadata": {},
     "output_type": "execute_result"
    }
   ],
   "source": [
    "\"\"\"\n",
    "学習データの作成\n",
    "\"\"\"\n",
    "rakuten_recipes = pd.read_table(\"../data/train_data/recipe03_process_20160112.txt\",names=[\"id\",\"position\",\"step\"])\n",
    "rakuten_recipes = rakuten_recipes.dropna(subset=[\"step\"])\n",
    "cleaned_data = rakuten_recipes[\"step\"].apply(lambda data:re.sub(clean_text,\"\",data))\n",
    "cleaned_data = pd.DataFrame(cleaned_data)\n",
    "cleaned_data.head()"
   ]
  },
  {
   "cell_type": "code",
   "execution_count": 3,
   "metadata": {},
   "outputs": [
    {
     "data": {
      "text/html": [
       "<div>\n",
       "<style scoped>\n",
       "    .dataframe tbody tr th:only-of-type {\n",
       "        vertical-align: middle;\n",
       "    }\n",
       "\n",
       "    .dataframe tbody tr th {\n",
       "        vertical-align: top;\n",
       "    }\n",
       "\n",
       "    .dataframe thead th {\n",
       "        text-align: right;\n",
       "    }\n",
       "</style>\n",
       "<table border=\"1\" class=\"dataframe\">\n",
       "  <thead>\n",
       "    <tr style=\"text-align: right;\">\n",
       "      <th></th>\n",
       "      <th>str_len</th>\n",
       "    </tr>\n",
       "  </thead>\n",
       "  <tbody>\n",
       "    <tr>\n",
       "      <th>count</th>\n",
       "      <td>3.031711e+06</td>\n",
       "    </tr>\n",
       "    <tr>\n",
       "      <th>mean</th>\n",
       "      <td>3.617919e+01</td>\n",
       "    </tr>\n",
       "    <tr>\n",
       "      <th>std</th>\n",
       "      <td>4.012472e+02</td>\n",
       "    </tr>\n",
       "    <tr>\n",
       "      <th>min</th>\n",
       "      <td>1.000000e+00</td>\n",
       "    </tr>\n",
       "    <tr>\n",
       "      <th>25%</th>\n",
       "      <td>2.200000e+01</td>\n",
       "    </tr>\n",
       "    <tr>\n",
       "      <th>50%</th>\n",
       "      <td>3.300000e+01</td>\n",
       "    </tr>\n",
       "    <tr>\n",
       "      <th>75%</th>\n",
       "      <td>4.700000e+01</td>\n",
       "    </tr>\n",
       "    <tr>\n",
       "      <th>max</th>\n",
       "      <td>6.979760e+05</td>\n",
       "    </tr>\n",
       "  </tbody>\n",
       "</table>\n",
       "</div>"
      ],
      "text/plain": [
       "            str_len\n",
       "count  3.031711e+06\n",
       "mean   3.617919e+01\n",
       "std    4.012472e+02\n",
       "min    1.000000e+00\n",
       "25%    2.200000e+01\n",
       "50%    3.300000e+01\n",
       "75%    4.700000e+01\n",
       "max    6.979760e+05"
      ]
     },
     "execution_count": 3,
     "metadata": {},
     "output_type": "execute_result"
    }
   ],
   "source": [
    "cleaned_data[\"str_len\"] = cleaned_data[\"step\"].apply(lambda data:len(data))\n",
    "output = cleaned_data[cleaned_data[\"str_len\"] != 0]\n",
    "output.describe()"
   ]
  },
  {
   "cell_type": "code",
   "execution_count": 4,
   "metadata": {},
   "outputs": [
    {
     "name": "stderr",
     "output_type": "stream",
     "text": [
      "100%|██████████| 3031711/3031711 [01:07<00:00, 44658.76it/s]\n"
     ]
    },
    {
     "name": "stdout",
     "output_type": "stream",
     "text": [
      "平均語彙サイズ: 1.8180813600902384\n",
      "平均語彙数: 19.899653034210715\n"
     ]
    }
   ],
   "source": [
    "# 合計語彙数\n",
    "num = 0\n",
    "# データの総文字数\n",
    "str_len = output[\"str_len\"].sum()\n",
    "# 学習データ\n",
    "corpas = \"\"\n",
    "\n",
    "m = MeCab.Tagger(\"-d /usr/lib/x86_64-linux-gnu/mecab/dic/mecab-ipadic-neologd -Owakati\")\n",
    "\n",
    "for step in tq(output[\"step\"],total=len(output)):\n",
    "    wakati = m.parse(step)\n",
    "    num += len(wakati.split(' '))\n",
    "    corpas += wakati\n",
    "\n",
    "with open(\"../data/train_data/rakuten_step_corpas.txt\",'w') as out_corpas:\n",
    "    out_corpas.write(corpas)\n",
    "\n",
    "print(\"平均語彙サイズ:\",str_len/num)\n",
    "print(\"平均語彙数:\",num/len(output))"
   ]
  },
  {
   "cell_type": "code",
   "execution_count": null,
   "metadata": {},
   "outputs": [],
   "source": [
    "from gensim.models import word2vec\n",
    "import logging\n",
    "sentences = word2vec.Text8Corpus('../data/train_data/rakuten_scray_train.txt')\n",
    "logging.basicConfig(format='%(asctime)s : %(levelname)s : %(message)s', level=logging.INFO)\n",
    "model = word2vec.Word2Vec(sentences, epochs=5,vector_size=600,sg=1,min_count=5, window=4, workers=8,hs=0)\n",
    "model.wv.save_word2vec_format(\"../data/trained_data/rakuten_m1_v600_min5_w4.vec.pt\", binary=True)"
   ]
  }
 ],
 "metadata": {
  "interpreter": {
   "hash": "98b0a9b7b4eaaa670588a142fd0a9b87eaafe866f1db4228be72b4211d12040f"
  },
  "kernelspec": {
   "display_name": "Python 3.9.6 64-bit ('base': conda)",
   "name": "python3"
  },
  "language_info": {
   "codemirror_mode": {
    "name": "ipython",
    "version": 3
   },
   "file_extension": ".py",
   "mimetype": "text/x-python",
   "name": "python",
   "nbconvert_exporter": "python",
   "pygments_lexer": "ipython3",
   "version": "3.9.7"
  },
  "orig_nbformat": 4
 },
 "nbformat": 4,
 "nbformat_minor": 2
}
