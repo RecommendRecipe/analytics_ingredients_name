{
 "cells": [
  {
   "cell_type": "code",
   "execution_count": 1,
   "metadata": {},
   "outputs": [
    {
     "name": "stderr",
     "output_type": "stream",
     "text": [
      "/tmp/ipykernel_3424/3076381981.py:12: FutureWarning: The error_bad_lines argument has been deprecated and will be removed in a future version. Use on_bad_lines in the future.\n",
      "\n",
      "\n",
      "  data = pd.read_csv(\"../data/train_data/rakuten_scray_train.csv\",names=[\"id\",\"step\"],engine=\"c\",sep=',', error_bad_lines=False)\n"
     ]
    },
    {
     "name": "stdout",
     "output_type": "stream",
     "text": [
      "全データ数: 9285470\n"
     ]
    },
    {
     "data": {
      "text/html": [
       "<div>\n",
       "<style scoped>\n",
       "    .dataframe tbody tr th:only-of-type {\n",
       "        vertical-align: middle;\n",
       "    }\n",
       "\n",
       "    .dataframe tbody tr th {\n",
       "        vertical-align: top;\n",
       "    }\n",
       "\n",
       "    .dataframe thead th {\n",
       "        text-align: right;\n",
       "    }\n",
       "</style>\n",
       "<table border=\"1\" class=\"dataframe\">\n",
       "  <thead>\n",
       "    <tr style=\"text-align: right;\">\n",
       "      <th></th>\n",
       "      <th>id</th>\n",
       "      <th>step</th>\n",
       "    </tr>\n",
       "  </thead>\n",
       "  <tbody>\n",
       "    <tr>\n",
       "      <th>レシピID：1710001960</th>\n",
       "      <td>赤ワイン</td>\n",
       "      <td>12カップ</td>\n",
       "    </tr>\n",
       "    <tr>\n",
       "      <th>レシピID：1710001960</th>\n",
       "      <td>梅酒</td>\n",
       "      <td>12カップ</td>\n",
       "    </tr>\n",
       "    <tr>\n",
       "      <th>レシピID：1750080919</th>\n",
       "      <td>レタス</td>\n",
       "      <td>中2枚</td>\n",
       "    </tr>\n",
       "    <tr>\n",
       "      <th>レシピID：1750080919</th>\n",
       "      <td>ミックス千切り野菜</td>\n",
       "      <td>20ｇ</td>\n",
       "    </tr>\n",
       "    <tr>\n",
       "      <th>レシピID：1750080919</th>\n",
       "      <td>林檎</td>\n",
       "      <td>くし形中18玉</td>\n",
       "    </tr>\n",
       "  </tbody>\n",
       "</table>\n",
       "</div>"
      ],
      "text/plain": [
       "                         id     step\n",
       "レシピID：1710001960       赤ワイン    12カップ\n",
       "レシピID：1710001960         梅酒    12カップ\n",
       "レシピID：1750080919        レタス      中2枚\n",
       "レシピID：1750080919  ミックス千切り野菜      20ｇ\n",
       "レシピID：1750080919         林檎  くし形中18玉"
      ]
     },
     "execution_count": 1,
     "metadata": {},
     "output_type": "execute_result"
    }
   ],
   "source": [
    "\"\"\"\n",
    "コーパスの確認をするスクリプトです。\n",
    "\"\"\"\n",
    "import re\n",
    "import pandas as pd\n",
    "import csv\n",
    "\n",
    "csv.field_size_limit(1000000000) # python によるcsvの読み込みフィールドの制限を引き上げ\n",
    "clean_text = re.compile('[!\"#$＄%&\\'\\\\\\\\()*+,-./:：;<=>?@[\\\\]^_`{|}~「」｣〔〕＜＞～“”〈〉『』【】＆＊✴・（）↑＄＃＠Ⓣ。、？…！｀＋￥％⚫︎⭕〇◯△◇☆✩☆✧･　※ ◎○▼▲■◆♦●★♡┗└┌✿ё◉♪♫♬]')\n",
    "\n",
    "# engine = pythonにしないと、データ内のEOFに引っかかって読み込めない\n",
    "data = pd.read_csv(\"../data/train_data/rakuten_scray_train.csv\",names=[\"id\",\"step\"],engine=\"c\",sep=',', error_bad_lines=False)\n",
    "data = data.dropna()\n",
    "cleaned_data = data.apply(lambda data:data.str.replace(clean_text,'',regex=True))\n",
    "del data\n",
    "print(\"全データ数:\",len(cleaned_data))\n",
    "cleaned_data.head()"
   ]
  },
  {
   "cell_type": "code",
   "execution_count": 2,
   "metadata": {},
   "outputs": [
    {
     "data": {
      "text/html": [
       "<div>\n",
       "<style scoped>\n",
       "    .dataframe tbody tr th:only-of-type {\n",
       "        vertical-align: middle;\n",
       "    }\n",
       "\n",
       "    .dataframe tbody tr th {\n",
       "        vertical-align: top;\n",
       "    }\n",
       "\n",
       "    .dataframe thead th {\n",
       "        text-align: right;\n",
       "    }\n",
       "</style>\n",
       "<table border=\"1\" class=\"dataframe\">\n",
       "  <thead>\n",
       "    <tr style=\"text-align: right;\">\n",
       "      <th></th>\n",
       "      <th>id</th>\n",
       "      <th>step</th>\n",
       "      <th>str_len</th>\n",
       "    </tr>\n",
       "  </thead>\n",
       "  <tbody>\n",
       "    <tr>\n",
       "      <th>0</th>\n",
       "      <td>ad7d585b06850f8437ff5fb97d3c7a823ff21bb1</td>\n",
       "      <td>鍋に豚肉をいれて酒砂糖みりん醤油しょうが薄切りにんにくで煮込みます</td>\n",
       "      <td>33</td>\n",
       "    </tr>\n",
       "    <tr>\n",
       "      <th>1</th>\n",
       "      <td>4afce5687dc173ad4fef943b686582a1cd06e264</td>\n",
       "      <td>にんじんとれんこんをおろし金でおろします</td>\n",
       "      <td>20</td>\n",
       "    </tr>\n",
       "    <tr>\n",
       "      <th>2</th>\n",
       "      <td>4afce5687dc173ad4fef943b686582a1cd06e264</td>\n",
       "      <td>挽肉と玉ねぎのみじん切りを加えよく混ぜます</td>\n",
       "      <td>21</td>\n",
       "    </tr>\n",
       "    <tr>\n",
       "      <th>3</th>\n",
       "      <td>4afce5687dc173ad4fef943b686582a1cd06e264</td>\n",
       "      <td>塩コショウを加えピーマンに詰めあとは焼くだけ</td>\n",
       "      <td>22</td>\n",
       "    </tr>\n",
       "    <tr>\n",
       "      <th>4</th>\n",
       "      <td>4afce5687dc173ad4fef943b686582a1cd06e264</td>\n",
       "      <td>少し蒸らして火を通しできあがり</td>\n",
       "      <td>15</td>\n",
       "    </tr>\n",
       "  </tbody>\n",
       "</table>\n",
       "</div>"
      ],
      "text/plain": [
       "                                         id  \\\n",
       "0  ad7d585b06850f8437ff5fb97d3c7a823ff21bb1   \n",
       "1  4afce5687dc173ad4fef943b686582a1cd06e264   \n",
       "2  4afce5687dc173ad4fef943b686582a1cd06e264   \n",
       "3  4afce5687dc173ad4fef943b686582a1cd06e264   \n",
       "4  4afce5687dc173ad4fef943b686582a1cd06e264   \n",
       "\n",
       "                                step  str_len  \n",
       "0  鍋に豚肉をいれて酒砂糖みりん醤油しょうが薄切りにんにくで煮込みます       33  \n",
       "1               にんじんとれんこんをおろし金でおろします       20  \n",
       "2              挽肉と玉ねぎのみじん切りを加えよく混ぜます       21  \n",
       "3             塩コショウを加えピーマンに詰めあとは焼くだけ       22  \n",
       "4                    少し蒸らして火を通しできあがり       15  "
      ]
     },
     "execution_count": 2,
     "metadata": {},
     "output_type": "execute_result"
    }
   ],
   "source": [
    "cleaned_data = cleaned_data.dropna(subset=[\"step\"])\n",
    "cleaned_data[\"str_len\"] = cleaned_data[\"step\"].apply(lambda data:len(data))\n",
    "output = cleaned_data[cleaned_data[\"str_len\"] != 0]\n",
    "output.head()"
   ]
  },
  {
   "cell_type": "code",
   "execution_count": 4,
   "metadata": {},
   "outputs": [
    {
     "name": "stderr",
     "output_type": "stream",
     "text": [
      "100%|██████████| 8784203/8784203 [03:21<00:00, 43659.08it/s]\n"
     ]
    },
    {
     "name": "stdout",
     "output_type": "stream",
     "text": [
      "平均語彙サイズ: 1.8275186829316827\n",
      "平均語彙数: 18.82481074264791\n"
     ]
    }
   ],
   "source": [
    "\"\"\"\n",
    "コーパスの作成\n",
    "\"\"\"\n",
    "from tqdm import tqdm as tq\n",
    "import MeCab\n",
    "\n",
    "m = MeCab.Tagger(\"-d /usr/lib/x86_64-linux-gnu/mecab/dic/mecab-ipadic-neologd -Owakati\")\n",
    "\n",
    "# 合計語彙数\n",
    "num = 0\n",
    "# データの総文字数\n",
    "str_len = output[\"str_len\"].sum()\n",
    "# 学習データ\n",
    "corpas = \"\"\n",
    "# 直前のid\n",
    "id_before = \"\"\n",
    "\n",
    "for step in tq(output.itertuples(),total=len(output)):\n",
    "    if id_before != step.id:\n",
    "        corpas += \"\\n\"\n",
    "    id_before = step.id\n",
    "    wakati = m.parse(step.step)\n",
    "    wakati = wakati.replace(\"\\n\",\"\")\n",
    "    num += len(wakati.split(' '))\n",
    "    corpas += wakati\n",
    "\n",
    "with open(\"../data/train_data/cookpad_step_corpas_GROUPED_BY_ID.txt\",'w') as out_corpas:\n",
    "    out_corpas.write(corpas)\n",
    "\n",
    "print(\"平均語彙サイズ:\",str_len/num)\n",
    "print(\"平均語彙数:\",num/len(output))"
   ]
  }
 ],
 "metadata": {
  "interpreter": {
   "hash": "d4d1e4263499bec80672ea0156c357c1ee493ec2b1c70f0acce89fc37c4a6abe"
  },
  "kernelspec": {
   "display_name": "Python 3.9.7 64-bit ('base': conda)",
   "language": "python",
   "name": "python3"
  },
  "language_info": {
   "codemirror_mode": {
    "name": "ipython",
    "version": 3
   },
   "file_extension": ".py",
   "mimetype": "text/x-python",
   "name": "python",
   "nbconvert_exporter": "python",
   "pygments_lexer": "ipython3",
   "version": "3.10.6"
  },
  "orig_nbformat": 4
 },
 "nbformat": 4,
 "nbformat_minor": 2
}
